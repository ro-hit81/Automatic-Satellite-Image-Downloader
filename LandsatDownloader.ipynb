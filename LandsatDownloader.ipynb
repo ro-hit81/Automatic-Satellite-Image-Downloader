{
  "nbformat": 4,
  "nbformat_minor": 0,
  "metadata": {
    "colab": {
      "name": "LandsatDownloader",
      "provenance": [],
      "collapsed_sections": [],
      "authorship_tag": "ABX9TyNog+t7NLYKgXeq5xytNTfv",
      "include_colab_link": true
    },
    "kernelspec": {
      "name": "python3",
      "display_name": "Python 3"
    }
  },
  "cells": [
    {
      "cell_type": "markdown",
      "metadata": {
        "id": "view-in-github",
        "colab_type": "text"
      },
      "source": [
        "<a href=\"https://colab.research.google.com/github/ro-hit81/Automatic-Satellite-Image-Downloader/blob/master/LandsatDownloader.ipynb\" target=\"_parent\"><img src=\"https://colab.research.google.com/assets/colab-badge.svg\" alt=\"Open In Colab\"/></a>"
      ]
    },
    {
      "cell_type": "code",
      "metadata": {
        "id": "699l4INPx65g"
      },
      "source": [
        "from google.colab import auth\n",
        "\n",
        "auth.authenticate_user()"
      ],
      "execution_count": null,
      "outputs": []
    },
    {
      "cell_type": "code",
      "metadata": {
        "id": "LIS4vSiNx71A",
        "outputId": "987b9a00-9966-4fe0-91e5-9df9b05a0c86",
        "colab": {
          "base_uri": "https://localhost:8080/",
          "height": 175
        }
      },
      "source": [
        "import ee\n",
        "ee.Authenticate()\n",
        "ee.Initialize()"
      ],
      "execution_count": null,
      "outputs": [
        {
          "output_type": "stream",
          "text": [
            "To authorize access needed by Earth Engine, open the following URL in a web browser and follow the instructions. If the web browser does not start automatically, please manually browse the URL below.\n",
            "\n",
            "    https://accounts.google.com/o/oauth2/auth?client_id=517222506229-vsmmajv00ul0bs7p89v5m89qs8eb9359.apps.googleusercontent.com&scope=https%3A%2F%2Fwww.googleapis.com%2Fauth%2Fearthengine+https%3A%2F%2Fwww.googleapis.com%2Fauth%2Fdevstorage.full_control&redirect_uri=urn%3Aietf%3Awg%3Aoauth%3A2.0%3Aoob&response_type=code&code_challenge=Y9_RIppReo_6bhm_k57Th2w__r9dggi_JWIWFF5q74Y&code_challenge_method=S256\n",
            "\n",
            "The authorization workflow will generate a code, which you should paste in the box below. \n",
            "Enter verification code: 4/5gEtgQN4mtL24X7YbTsB94BcrPTpQ9G02bcbQi38UbzuuLtekU5vaJg\n",
            "\n",
            "Successfully saved authorization token.\n"
          ],
          "name": "stdout"
        }
      ]
    },
    {
      "cell_type": "code",
      "metadata": {
        "id": "DrMabzHKiNRG"
      },
      "source": [
        "def getImageId(productId):\n",
        "  sensor_slice = slice(4)\n",
        "  processing_level_slice = slice(5, 9, 1)\n",
        "  image_number_slice = slice(10, 25, 1)\n",
        "  collection_number_slice = slice(35, 37, 1)\n",
        "  collection_category_slice = slice(38, 40, 1)\n",
        "\n",
        "  ### Landsat 7\n",
        "  if productId[sensor_slice] == 'LE07':\n",
        "    spatial_resolution = 30\n",
        "    bands = ['B1', 'B2', 'B3', 'B4', 'B5', 'B6_VCID_1', 'B6_VCID_2', 'B7', 'B8']\n",
        "\n",
        "    ### Landsat 7 Collection 1 Tier 1 Raw Scenes\n",
        "    if productId[processing_level_slice] == 'L1TP' and productId[collection_number_slice] == '01' and productId[collection_category_slice] == 'T1':   \n",
        "      collection_id = 'LANDSAT/LE07/C01/T1/'\n",
        "      folder = 'L07_Tier_1'\n",
        "    \n",
        "    ### Landsat 7 Collection 1 Tier 2 Raw Scenes\n",
        "    elif productId[processing_level_slice] == 'L1TP' or 'L1GT' or 'L1GS' and productId[collection_number_slice] == '01' and productId[collection_category_slice] == 'T2':\n",
        "      collection_id = 'LANDSAT/LE07/C01/T2/'\n",
        "      folder = 'L07_Tier_2'\n",
        "\n",
        "  ### Landsat 5 Thematics Mapper \n",
        "  elif productId[sensor_slice] == 'LT05':\n",
        "    spatial_resolution = 30\n",
        "    bands = ['B1', 'B2', 'B3', 'B4']\n",
        "\n",
        "    ### Landsat 5 TM Collection 1 Tier 1 Raw Scenes\n",
        "    if productId[processing_level_slice] == 'L1TP' and productId[collection_number_slice] == '01' and productId[collection_category_slice] == 'T1':\n",
        "      collection_id = 'LANDSAT/LT05/C01/T1/'\n",
        "      folder = 'L_05_TM_Tier_1'\n",
        "\n",
        "    ### Landsat 5 TM Collection 1 Tier 2 Raw Scenes\n",
        "    elif productId[processing_level_slice] == 'L1TP' or 'L1GT' or 'L1GS' and productId[collection_number_slice] == '01' and productId[collection_category_slice] == 'T2':\n",
        "      collection_id = 'LANDSAT/LT05/C01/T2/'\n",
        "      folder = 'L05_TM_Tier_2'\n",
        "\n",
        "  ### Landsat 5 MSS\n",
        "  elif productId[sensor_slice] == 'LM05':\n",
        "    spatial_resolution = 60\n",
        "    bands = ['B1', 'B2', 'B3', 'B4']\n",
        "\n",
        "    ### Landsat 5 MSS Collection 1 Tier 1 Raw Scenes\n",
        "    if productId[processing_level_slice] == 'L1TP' and productId[collection_number_slice] == '01' and productId[collection_category_slice] == 'T1':\n",
        "      collection_id = 'LANDSAT/LM05/C01/T1/'\n",
        "      folder = 'L05_MSS_Tier_1'\n",
        "\n",
        "    ### Landsat 5 MSS Collection 1 Tier 2 Raw Scenes\n",
        "    elif productId[processing_level_slice] == 'L1TP' or 'L1GT' or 'L1GS' and productId[collection_number_slice] == '01' and productId[collection_category_slice] == 'T2':\n",
        "      collection_id = 'LANDSAT/LM05/C01/T2/'\n",
        "      folder = 'L05_MSS_Tier_2'\n",
        "\n",
        "  ### Landsat 4 Thematics Mapper \n",
        "  elif productId[sensor_slice] == 'LT04':\n",
        "    spatial_resolution = 30\n",
        "    bands = ['B1', 'B2', 'B3', 'B4', 'B5', 'B6', 'B7']\n",
        "\n",
        "    ### Landsat 4 TM Collection 1 Tier 1 Raw Scenes\n",
        "    if productId[processing_level_slice] == 'L1TP' and productId[collection_number_slice] == '01' and productId[collection_category_slice] == 'T1':\n",
        "      collection_id = 'LANDSAT/LT04/C01/T1/'\n",
        "      folder = 'L04_TM_Tier_1'\n",
        "\n",
        "    ### Landsat 4 TM Collection 1 Tier 2 Raw Scenes\n",
        "    elif productId[processing_level_slice] == 'L1TP' or 'L1GT' or 'L1GS' and productId[collection_number_slice] == '01' and productId[collection_category_slice] == 'T2':\n",
        "      collection_id = 'LANDSAT/LT04/C01/T2/'\n",
        "      folder = 'L04_TM_Tier_2'\n",
        "\n",
        "  ### Landsat 4 MSS\n",
        "  elif productId[sensor_slice] == 'LM04':\n",
        "    spatial_resolution = 60\n",
        "    bands = ['B1', 'B2', 'B3', 'B4', 'B5', 'B6', 'B7']\n",
        "\n",
        "    ### Landsat 4 MSS Collection 1 Tier 1 Raw Scenes\n",
        "    if productId[processing_level_slice] == 'L1TP' and productId[collection_number_slice] == '01' and productId[collection_category_slice] == 'T1':\n",
        "      collection_id = 'LANDSAT/LM04/C01/T1/'\n",
        "      folder = 'L04_MSS_Tier_1'\n",
        "\n",
        "    ### Landsat 4 MSS Collection 1 Tier 2 Raw Scenes\n",
        "    elif productId[processing_level_slice] == 'L1TP' or 'L1GT' or 'L1GS' and productId[collection_number_slice] == '01' and productId[collection_category_slice] == 'T2':\n",
        "      collection_id = 'LANDSAT/LM04/C01/T2/'\n",
        "      folder = 'L04_MSS_Tier_2'\n",
        "\n",
        "  ### Landsat 3 MSS\n",
        "  elif productId[sensor_slice] == 'LM03':\n",
        "    spatial_resolution = 60\n",
        "    bands = ['B4', 'B5', 'B6', 'B7']\n",
        "\n",
        "    ### Landsat 3 MSS Collection 1 Tier 1 Raw Scenes\n",
        "    if productId[processing_level_slice] == 'L1TP' and productId[collection_number_slice] == '01' and productId[collection_category_slice] == 'T1':\n",
        "      collection_id = 'LANDSAT/LM03/C01/T1/'\n",
        "      folder = 'L03_MSS_Tier_1'\n",
        "\n",
        "    ### Landsat 3 MSS Collection 1 Tier 2 Raw Scenes\n",
        "    elif productId[processing_level_slice] == 'L1TP' or 'L1GT' or 'L1GS' and productId[collection_number_slice] == '01' and productId[collection_category_slice] == 'T2':\n",
        "      collection_id = 'LANDSAT/LM03/C01/T2/'\n",
        "      folder = 'L03_MSS_Tier_2'\n",
        "    \n",
        "  ### Landsat 2 MSS\n",
        "  elif productId[sensor_slice] == 'LM02':\n",
        "    spatial_resolution = 60\n",
        "    bands = ['B4', 'B5', 'B6', 'B7']\n",
        "\n",
        "    ### Landsat 2 MSS Collection 1 Tier 1 Raw Scenes\n",
        "    if productId[processing_level_slice] == 'L1TP' and productId[collection_number_slice] == '01' and productId[collection_category_slice] == 'T1':\n",
        "      collection_id = 'LANDSAT/LM02/C01/T1/'\n",
        "      folder = 'L02_MSS_Tier_1'\n",
        "\n",
        "    ### Landsat 2 MSS Collection 1 Tier 2 Raw Scenes\n",
        "    elif productId[processing_level_slice] == 'L1TP' or 'L1GT' or 'L1GS' and productId[collection_number_slice] == '01' and productId[collection_category_slice] == 'T2':\n",
        "      collection_id = 'LANDSAT/LM02/C01/T2/'\n",
        "      folder = 'L02_MSS_Tier_2'\n",
        "\n",
        "  ### Landsat 1 MSS\n",
        "  elif productId[sensor_slice] == 'LM01':\n",
        "    spatial_resolution = 60\n",
        "    bands = ['B4', 'B5', 'B6', 'B7']\n",
        "\n",
        "    ### Landsat 1 MSS Collection 1 Tier 1 Raw Scenes\n",
        "    if productId[processing_level_slice] == 'L1TP' and productId[collection_number_slice] == '01' and productId[collection_category_slice] == 'T1':\n",
        "      collection_id = 'LANDSAT/LM01/C01/T1/'\n",
        "      folder = 'L01_MSS_Tier_1'\n",
        "\n",
        "    ### Landsat 1 MSS Collection 1 Tier 2 Raw Scenes\n",
        "    elif productId[processing_level_slice] == 'L1TP' or 'L1GT' or 'L1GS' and productId[collection_number_slice] == '01' and productId[collection_category_slice] == 'T2':\n",
        "      collection_id = 'LANDSAT/LM01/C01/T2/'\n",
        "      folder = 'L01_MSS_Tier_2'\n",
        "  \n",
        "  else:\n",
        "    print('Image not found for LANDSAT_PRODUCT ID ' + productId + '.')\n",
        "\n",
        "  product = ee.Image(collection_id + productId[sensor_slice] + '_' + productId[image_number_slice])\n",
        "  product = product.select(bands)\n",
        "\n",
        "  Task = ee.batch.Export.image.toDrive(**{\n",
        "    'image': product,\n",
        "    'description': productId,\n",
        "    'folder': folder,\n",
        "    'scale': spatial_resolution\n",
        "  })\n",
        "\n",
        "  Task.start()\n"
      ],
      "execution_count": null,
      "outputs": []
    },
    {
      "cell_type": "code",
      "metadata": {
        "id": "7zU6exS94zQV"
      },
      "source": [
        "demoList = [\n",
        "            'LM01_L1TP_040039_19750105_20180425_01_T1',\n",
        "            'LM01_L1GS_004030_19750105_20180425_01_T2',\n",
        "            'LM02_L1TP_216040_19750131_20180425_01_T1',\n",
        "            'LM02_L1TP_013032_19750126_20180425_01_T2',\n",
        "            'LM03_L1TP_012031_19820430_20180413_01_T1',\n",
        "            'LM03_L1GS_004047_19830312_20180411_01_T2',\n",
        "            'LM04_L1TP_033044_19920503_20180318_01_T1',\n",
        "            'LT04_L1TP_041035_19900114_20161001_01_T1',\n",
        "            'LM04_L1TP_171046_19900129_20180323_01_T2',\n",
        "            'LT04_L1GS_010113_19900121_20170131_01_T2',\n",
        "            'LM05_L1TP_107032_19900105_20180323_01_T2',\n",
        "            'LM05_L1TP_022039_19900117_20180323_01_T1',\n",
        "            'LT05_L1GS_042033_19900113_20161001_01_T2',\n",
        "            'LT05_L1TP_167032_19900125_20170717_01_T1',\n",
        "            'LE07_L1TP_001075_20000118_20170213_01_T1',\n",
        "            'LE07_L1GT_002067_20000109_20170215_01_T2',\n",
        "            ]"
      ],
      "execution_count": null,
      "outputs": []
    },
    {
      "cell_type": "code",
      "metadata": {
        "id": "i0yiXMFz41fK"
      },
      "source": [
        "for i in range(0, len(demoList), 1):\n",
        "  getImageId(demoList[i])\n",
        "  print(f\"!!! Image uploading started for {demoList[i]} to drive !!!\")"
      ],
      "execution_count": null,
      "outputs": []
    },
    {
      "cell_type": "code",
      "metadata": {
        "id": "XAstKLAeDS1N"
      },
      "source": [
        ""
      ],
      "execution_count": null,
      "outputs": []
    }
  ]
}