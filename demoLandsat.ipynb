{
  "nbformat": 4,
  "nbformat_minor": 0,
  "metadata": {
    "colab": {
      "name": "demoLandsat",
      "provenance": [],
      "authorship_tag": "ABX9TyM41eTW85IyCmuhgkUy6Ie+",
      "include_colab_link": true
    },
    "kernelspec": {
      "name": "python3",
      "display_name": "Python 3"
    }
  },
  "cells": [
    {
      "cell_type": "markdown",
      "metadata": {
        "id": "view-in-github",
        "colab_type": "text"
      },
      "source": [
        "<a href=\"https://colab.research.google.com/github/ro-hit81/Automatic-Satellite-Image-Downloader/blob/master/demoLandsat.ipynb\" target=\"_parent\"><img src=\"https://colab.research.google.com/assets/colab-badge.svg\" alt=\"Open In Colab\"/></a>"
      ]
    },
    {
      "cell_type": "code",
      "metadata": {
        "id": "UpYHDzEj9L68",
        "outputId": "47a8817c-3d91-4b93-c630-bd71b78797df",
        "colab": {
          "base_uri": "https://localhost:8080/",
          "height": 175
        }
      },
      "source": [
        "from getLandsatProduct import getLandsatProductById"
      ],
      "execution_count": 1,
      "outputs": [
        {
          "output_type": "stream",
          "text": [
            "To authorize access needed by Earth Engine, open the following URL in a web browser and follow the instructions. If the web browser does not start automatically, please manually browse the URL below.\n",
            "\n",
            "    https://accounts.google.com/o/oauth2/auth?client_id=517222506229-vsmmajv00ul0bs7p89v5m89qs8eb9359.apps.googleusercontent.com&scope=https%3A%2F%2Fwww.googleapis.com%2Fauth%2Fearthengine+https%3A%2F%2Fwww.googleapis.com%2Fauth%2Fdevstorage.full_control&redirect_uri=urn%3Aietf%3Awg%3Aoauth%3A2.0%3Aoob&response_type=code&code_challenge=br_dlnnwkHQ9DRc_2gLEN6fcYlPkQH5pZLc_nxchiiY&code_challenge_method=S256\n",
            "\n",
            "The authorization workflow will generate a code, which you should paste in the box below. \n",
            "Enter verification code: 4/5gH2m_PEEJgWg4i6uK9c1tOGuf1_hT1VfijXLogw9_w1yVG9bHXq_-0\n",
            "\n",
            "Successfully saved authorization token.\n"
          ],
          "name": "stdout"
        }
      ]
    },
    {
      "cell_type": "code",
      "metadata": {
        "id": "zorEE5Hg9YPY"
      },
      "source": [
        "demoList = [\n",
        "            'LM01_L1TP_040039_19750105_20180425_01_T1',\n",
        "            'LM01_L1GS_004030_19750105_20180425_01_T2',\n",
        "            'LM02_L1TP_216040_19750131_20180425_01_T1',\n",
        "            'LM02_L1TP_013032_19750126_20180425_01_T2',\n",
        "            'LM03_L1TP_012031_19820430_20180413_01_T1',\n",
        "            'LM03_L1GS_004047_19830312_20180411_01_T2',\n",
        "            'LM04_L1TP_033044_19920503_20180318_01_T1',\n",
        "            'LT04_L1TP_041035_19900114_20161001_01_T1',\n",
        "            'LM04_L1TP_171046_19900129_20180323_01_T2',\n",
        "            'LT04_L1GS_010113_19900121_20170131_01_T2',\n",
        "            'LM05_L1TP_107032_19900105_20180323_01_T2',\n",
        "            'LM05_L1TP_022039_19900117_20180323_01_T1',\n",
        "            'LT05_L1GS_042033_19900113_20161001_01_T2',\n",
        "            'LT05_L1TP_167032_19900125_20170717_01_T1',\n",
        "            'LE07_L1TP_001075_20000118_20170213_01_T1',\n",
        "            'LE07_L1GT_002067_20000109_20170215_01_T2',\n",
        "            ]"
      ],
      "execution_count": 4,
      "outputs": []
    },
    {
      "cell_type": "code",
      "metadata": {
        "id": "oW3vjvYG-KUU",
        "outputId": "257ca914-6160-43a3-db8a-ed83753c901e",
        "colab": {
          "base_uri": "https://localhost:8080/",
          "height": 293
        }
      },
      "source": [
        "for i in range(0, len(demoList), 1):\n",
        "  getLandsatProductById(demoList[i])\n",
        "  print(f\"{i + 1}.  !!! Image uploading started for {demoList[i]} to drive !!!\")"
      ],
      "execution_count": 5,
      "outputs": [
        {
          "output_type": "stream",
          "text": [
            "1.  !!! Image uploading started for LM01_L1TP_040039_19750105_20180425_01_T1 to drive !!!\n",
            "2.  !!! Image uploading started for LM01_L1GS_004030_19750105_20180425_01_T2 to drive !!!\n",
            "3.  !!! Image uploading started for LM02_L1TP_216040_19750131_20180425_01_T1 to drive !!!\n",
            "4.  !!! Image uploading started for LM02_L1TP_013032_19750126_20180425_01_T2 to drive !!!\n",
            "5.  !!! Image uploading started for LM03_L1TP_012031_19820430_20180413_01_T1 to drive !!!\n",
            "6.  !!! Image uploading started for LM03_L1GS_004047_19830312_20180411_01_T2 to drive !!!\n",
            "7.  !!! Image uploading started for LM04_L1TP_033044_19920503_20180318_01_T1 to drive !!!\n",
            "8.  !!! Image uploading started for LT04_L1TP_041035_19900114_20161001_01_T1 to drive !!!\n",
            "9.  !!! Image uploading started for LM04_L1TP_171046_19900129_20180323_01_T2 to drive !!!\n",
            "10.  !!! Image uploading started for LT04_L1GS_010113_19900121_20170131_01_T2 to drive !!!\n",
            "11.  !!! Image uploading started for LM05_L1TP_107032_19900105_20180323_01_T2 to drive !!!\n",
            "12.  !!! Image uploading started for LM05_L1TP_022039_19900117_20180323_01_T1 to drive !!!\n",
            "13.  !!! Image uploading started for LT05_L1GS_042033_19900113_20161001_01_T2 to drive !!!\n",
            "14.  !!! Image uploading started for LT05_L1TP_167032_19900125_20170717_01_T1 to drive !!!\n",
            "15.  !!! Image uploading started for LE07_L1TP_001075_20000118_20170213_01_T1 to drive !!!\n",
            "16.  !!! Image uploading started for LE07_L1GT_002067_20000109_20170215_01_T2 to drive !!!\n"
          ],
          "name": "stdout"
        }
      ]
    },
    {
      "cell_type": "code",
      "metadata": {
        "id": "nJaYOKIB_Ig2"
      },
      "source": [
        ""
      ],
      "execution_count": 3,
      "outputs": []
    }
  ]
}